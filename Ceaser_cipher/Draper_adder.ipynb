{
 "cells": [
  {
   "cell_type": "code",
   "execution_count": 1,
   "id": "4bca8c3c",
   "metadata": {},
   "outputs": [],
   "source": [
    "from qiskit import QuantumCircuit, QuantumRegister, ClassicalRegister\n",
    "from qiskit.quantum_info import Statevector\n",
    "from qiskit.visualization import plot_state_qsphere"
   ]
  },
  {
   "cell_type": "code",
   "execution_count": 2,
   "id": "34adbbbe",
   "metadata": {},
   "outputs": [],
   "source": [
    "def carry():\n",
    "    carry=QuantumCircuit(3,name=\"MAJ\")\n",
    "    carry.cx(0,1)\n",
    "    carry.cx(0,2)\n",
    "    carry.ccx(1,2,0)\n",
    "    \n",
    "    return carry.to_gate()"
   ]
  },
  {
   "cell_type": "code",
   "execution_count": 3,
   "id": "cb75ad22",
   "metadata": {},
   "outputs": [],
   "source": [
    "def sum():\n",
    "    qc=QuantumCircuit(3,name=\"UMA\")\n",
    "    qc.ccx(2,1,0)\n",
    "    qc.cx(0,2)\n",
    "    qc.cx(2,1)\n",
    "    return qc.to_gate()"
   ]
  },
  {
   "cell_type": "code",
   "execution_count": 4,
   "id": "12a390c7",
   "metadata": {},
   "outputs": [],
   "source": [
    "def adder(n):\n",
    "    a=QuantumRegister(n,name='a')\n",
    "    b=QuantumRegister(n,name='b')\n",
    "    c=QuantumRegister(1,name='c')\n",
    "    # z=QuantumRegister(1,name='z')\n",
    "\n",
    "    qc=QuantumCircuit(c,a,b,name=\"Add\")\n",
    "\n",
    "    for i in range(n):\n",
    "        if i==0:\n",
    "            qc.append(carry(),[a[i],b[i],c[i]])\n",
    "        else:\n",
    "            qc.append(carry(),[a[i],b[i],a[i-1]])\n",
    "\n",
    "    # qc.barrier()\n",
    "    # qc.cx(a[n-1],z[0])\n",
    "    for i in reversed(range(n)):\n",
    "        if i == 0:\n",
    "            qc.append(sum(),[a[i],b[i],c[i]])\n",
    "        else:\n",
    "            qc.append(sum(),[a[i],b[i],a[i-1]])\n",
    "\n",
    "    # qc.barrier()\n",
    "    return qc"
   ]
  },
  {
   "cell_type": "code",
   "execution_count": 5,
   "id": "09a90e10",
   "metadata": {},
   "outputs": [],
   "source": [
    "def adder_dag(n):\n",
    "    adder_dag = adder(n)\n",
    "    decomposed = adder_dag.decompose()\n",
    "\n",
    "    return decomposed.to_gate().inverse()"
   ]
  }
 ],
 "metadata": {
  "kernelspec": {
   "display_name": "cwq",
   "language": "python",
   "name": "python3"
  },
  "language_info": {
   "codemirror_mode": {
    "name": "ipython",
    "version": 3
   },
   "file_extension": ".py",
   "mimetype": "text/x-python",
   "name": "python",
   "nbconvert_exporter": "python",
   "pygments_lexer": "ipython3",
   "version": "3.13.2"
  }
 },
 "nbformat": 4,
 "nbformat_minor": 5
}
